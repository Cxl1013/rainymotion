{
 "cells": [
  {
   "cell_type": "markdown",
   "metadata": {},
   "source": [
    "# Real case verification: the Braunsbach event "
   ]
  },
  {
   "cell_type": "code",
   "execution_count": 1,
   "metadata": {},
   "outputs": [
    {
     "name": "stderr",
     "output_type": "stream",
     "text": [
      "/home/hydrogo/anaconda3/envs/rainymotion/lib/python3.5/site-packages/h5py/__init__.py:36: FutureWarning: Conversion of the second argument of issubdtype from `float` to `np.floating` is deprecated. In future, it will be treated as `np.float64 == np.dtype(float).type`.\n",
      "  from ._conv import register_converters as _register_converters\n"
     ]
    }
   ],
   "source": [
    "# import rainymotion library\n",
    "from rainymotion import models, metrics, utils\n",
    "\n",
    "# import accompanying libraries\n",
    "from collections import OrderedDict\n",
    "import numpy as np\n",
    "import h5py\n",
    "import matplotlib.pyplot as plt\n",
    "\n",
    "% matplotlib inline"
   ]
  },
  {
   "cell_type": "code",
   "execution_count": 2,
   "metadata": {},
   "outputs": [],
   "source": [
    "data = h5py.File(\"../../../data/data.h5\", mode=\"r\")\n",
    "eval_idx = np.load(\"../../../data/eval_dict.npy\").item()"
   ]
  },
  {
   "cell_type": "code",
   "execution_count": 3,
   "metadata": {},
   "outputs": [],
   "source": [
    "results = h5py.File(\"../../../data/results.h5\")"
   ]
  },
  {
   "cell_type": "code",
   "execution_count": 4,
   "metadata": {},
   "outputs": [],
   "source": [
    "def ground_truth(data_instance, eval_instance, results_instance):\n",
    "    \n",
    "    results_instance.create_group(\"/GT/\")\n",
    "    \n",
    "    for key in sorted(list(eval_instance.keys())):\n",
    "               \n",
    "        ground_truth = np.array([ data_instance[key][()] for key in eval_instance[key][1] ])\n",
    "        \n",
    "        results_instance[\"/GT/\"].create_dataset(key, \n",
    "                                                data=ground_truth, \n",
    "                                                dtype=\"float16\", \n",
    "                                                chunks=(12,100,100), \n",
    "                                                maxshape=(12,900,900), compression=\"gzip\")"
   ]
  },
  {
   "cell_type": "code",
   "execution_count": 5,
   "metadata": {
    "scrolled": true
   },
   "outputs": [
    {
     "name": "stdout",
     "output_type": "stream",
     "text": [
      "CPU times: user 1min 24s, sys: 351 ms, total: 1min 24s\n",
      "Wall time: 1min 25s\n"
     ]
    }
   ],
   "source": [
    "%%time\n",
    "ground_truth(data, eval_idx, results)"
   ]
  },
  {
   "cell_type": "code",
   "execution_count": 6,
   "metadata": {},
   "outputs": [],
   "source": [
    "def persistence(data_instance, eval_instance, results_instance):\n",
    "    \n",
    "    results_instance.create_group(\"/Persistence/\")\n",
    "    \n",
    "    for key in sorted(list(eval_instance.keys())):\n",
    "        \n",
    "        inputs = np.array([ data_instance[key][()] for key in eval_instance[key][0][-1:] ])\n",
    "        \n",
    "        model = models.EulerianPersistence()\n",
    "        \n",
    "        model.input_data = inputs\n",
    "        \n",
    "        nowcast = model.run()\n",
    "        \n",
    "        results_instance[\"/Persistence/\"].create_dataset(key,\n",
    "                                                         data=nowcast, \n",
    "                                                         dtype=\"float16\",\n",
    "                                                         chunks=(12,100,100),\n",
    "                                                         maxshape=(12,900,900), \n",
    "                                                         compression=\"gzip\")"
   ]
  },
  {
   "cell_type": "code",
   "execution_count": 7,
   "metadata": {},
   "outputs": [
    {
     "name": "stdout",
     "output_type": "stream",
     "text": [
      "CPU times: user 59.1 s, sys: 183 ms, total: 59.3 s\n",
      "Wall time: 59.4 s\n"
     ]
    }
   ],
   "source": [
    "%%time\n",
    "persistence(data, eval_idx, results)"
   ]
  },
  {
   "cell_type": "code",
   "execution_count": 8,
   "metadata": {},
   "outputs": [],
   "source": [
    "def optical_flow(data_instance, eval_instance, results_instance, model_name):\n",
    "    \n",
    "    if model_name == \"Sparse\":\n",
    "        model = models.Sparse()\n",
    "    \n",
    "    elif model_name == \"SparseSD\":\n",
    "        model = models.SparseSD()\n",
    "    \n",
    "    elif model_name == \"Dense\":\n",
    "        model = models.Dense()\n",
    "    \n",
    "    elif model_name == \"DenseRotation\":\n",
    "        model = models.DenseRotation()\n",
    "    \n",
    "    results_instance.create_group(\"/{}/\".format(model_name))\n",
    "    \n",
    "    for key in sorted(list(eval_instance.keys())):\n",
    "        \n",
    "        inputs = np.array([ data_instance[key][()] for key in eval_instance[key][0] ]).astype(\"float64\")\n",
    "        \n",
    "        inputs, c1, c2 = utils.RYScaler(inputs)\n",
    "        \n",
    "        model.input_data = inputs\n",
    "        \n",
    "        nowcast = model.run()\n",
    "        \n",
    "        nowcast = utils.inv_RYScaler(nowcast, c1, c2).astype(\"float16\")\n",
    "        \n",
    "        results_instance[\"/{}/\".format(model_name)].create_dataset(key, \n",
    "                                                                   data=nowcast,\n",
    "                                                                   dtype=\"float16\",\n",
    "                                                                   chunks=(12,100,100),\n",
    "                                                                   maxshape=(12,900,900),\n",
    "                                                                   compression=\"gzip\")"
   ]
  },
  {
   "cell_type": "code",
   "execution_count": 9,
   "metadata": {},
   "outputs": [
    {
     "name": "stdout",
     "output_type": "stream",
     "text": [
      "CPU times: user 7min 40s, sys: 2min 30s, total: 10min 10s\n",
      "Wall time: 6min 47s\n"
     ]
    }
   ],
   "source": [
    "%%time\n",
    "optical_flow(data, eval_idx, results, \"Sparse\")"
   ]
  },
  {
   "cell_type": "code",
   "execution_count": 10,
   "metadata": {},
   "outputs": [
    {
     "name": "stdout",
     "output_type": "stream",
     "text": [
      "CPU times: user 6min 53s, sys: 2min 34s, total: 9min 27s\n",
      "Wall time: 6min 28s\n"
     ]
    }
   ],
   "source": [
    "%%time\n",
    "optical_flow(data, eval_idx, results, \"SparseSD\")"
   ]
  },
  {
   "cell_type": "code",
   "execution_count": 11,
   "metadata": {},
   "outputs": [
    {
     "name": "stdout",
     "output_type": "stream",
     "text": [
      "CPU times: user 7h 26min 20s, sys: 2h 3min 1s, total: 9h 29min 21s\n",
      "Wall time: 6h 54min 2s\n"
     ]
    }
   ],
   "source": [
    "%%time\n",
    "optical_flow(data, eval_idx, results, \"Dense\")"
   ]
  },
  {
   "cell_type": "code",
   "execution_count": 12,
   "metadata": {},
   "outputs": [
    {
     "ename": "KeyboardInterrupt",
     "evalue": "",
     "output_type": "error",
     "traceback": [
      "\u001b[0;31m---------------------------------------------------------------------------\u001b[0m",
      "\u001b[0;31mKeyboardInterrupt\u001b[0m                         Traceback (most recent call last)",
      "\u001b[0;32m<timed eval>\u001b[0m in \u001b[0;36m<module>\u001b[0;34m()\u001b[0m\n",
      "\u001b[0;32m<ipython-input-8-f48fd83e77f0>\u001b[0m in \u001b[0;36moptical_flow\u001b[0;34m(data_instance, eval_instance, results_instance, model_name)\u001b[0m\n\u001b[1;32m     23\u001b[0m         \u001b[0mmodel\u001b[0m\u001b[0;34m.\u001b[0m\u001b[0minput_data\u001b[0m \u001b[0;34m=\u001b[0m \u001b[0minputs\u001b[0m\u001b[0;34m\u001b[0m\u001b[0m\n\u001b[1;32m     24\u001b[0m \u001b[0;34m\u001b[0m\u001b[0m\n\u001b[0;32m---> 25\u001b[0;31m         \u001b[0mnowcast\u001b[0m \u001b[0;34m=\u001b[0m \u001b[0mmodel\u001b[0m\u001b[0;34m.\u001b[0m\u001b[0mrun\u001b[0m\u001b[0;34m(\u001b[0m\u001b[0;34m)\u001b[0m\u001b[0;34m\u001b[0m\u001b[0m\n\u001b[0m\u001b[1;32m     26\u001b[0m \u001b[0;34m\u001b[0m\u001b[0m\n\u001b[1;32m     27\u001b[0m         \u001b[0mnowcast\u001b[0m \u001b[0;34m=\u001b[0m \u001b[0mutils\u001b[0m\u001b[0;34m.\u001b[0m\u001b[0minv_RYScaler\u001b[0m\u001b[0;34m(\u001b[0m\u001b[0mnowcast\u001b[0m\u001b[0;34m,\u001b[0m \u001b[0mc1\u001b[0m\u001b[0;34m,\u001b[0m \u001b[0mc2\u001b[0m\u001b[0;34m)\u001b[0m\u001b[0;34m.\u001b[0m\u001b[0mastype\u001b[0m\u001b[0;34m(\u001b[0m\u001b[0;34m\"float16\"\u001b[0m\u001b[0;34m)\u001b[0m\u001b[0;34m\u001b[0m\u001b[0m\n",
      "\u001b[0;32m~/anaconda3/envs/rainymotion/lib/python3.5/site-packages/rainymotion-0.1-py3.5.egg/rainymotion/models.py\u001b[0m in \u001b[0;36mrun\u001b[0;34m(self)\u001b[0m\n\u001b[1;32m    683\u001b[0m                                     \u001b[0mlast_frame\u001b[0m\u001b[0;34m.\u001b[0m\u001b[0mflatten\u001b[0m\u001b[0;34m(\u001b[0m\u001b[0;34m)\u001b[0m\u001b[0;34m,\u001b[0m\u001b[0;34m\u001b[0m\u001b[0m\n\u001b[1;32m    684\u001b[0m                                     \u001b[0;34m(\u001b[0m\u001b[0mcoord_source_i\u001b[0m\u001b[0;34m.\u001b[0m\u001b[0mflatten\u001b[0m\u001b[0;34m(\u001b[0m\u001b[0;34m)\u001b[0m\u001b[0;34m,\u001b[0m \u001b[0mcoord_source_j\u001b[0m\u001b[0;34m.\u001b[0m\u001b[0mflatten\u001b[0m\u001b[0;34m(\u001b[0m\u001b[0;34m)\u001b[0m\u001b[0;34m)\u001b[0m\u001b[0;34m,\u001b[0m\u001b[0;34m\u001b[0m\u001b[0m\n\u001b[0;32m--> 685\u001b[0;31m                                     method=self.interpolator, fill_value=0)\n\u001b[0m\u001b[1;32m    686\u001b[0m \u001b[0;34m\u001b[0m\u001b[0m\n\u001b[1;32m    687\u001b[0m             \u001b[0;31m# reshape output\u001b[0m\u001b[0;34m\u001b[0m\u001b[0;34m\u001b[0m\u001b[0m\n",
      "\u001b[0;32m~/anaconda3/envs/rainymotion/lib/python3.5/site-packages/scipy/interpolate/ndgriddata.py\u001b[0m in \u001b[0;36mgriddata\u001b[0;34m(points, values, xi, method, fill_value, rescale)\u001b[0m\n\u001b[1;32m    216\u001b[0m         ip = LinearNDInterpolator(points, values, fill_value=fill_value,\n\u001b[1;32m    217\u001b[0m                                   rescale=rescale)\n\u001b[0;32m--> 218\u001b[0;31m         \u001b[0;32mreturn\u001b[0m \u001b[0mip\u001b[0m\u001b[0;34m(\u001b[0m\u001b[0mxi\u001b[0m\u001b[0;34m)\u001b[0m\u001b[0;34m\u001b[0m\u001b[0m\n\u001b[0m\u001b[1;32m    219\u001b[0m     \u001b[0;32melif\u001b[0m \u001b[0mmethod\u001b[0m \u001b[0;34m==\u001b[0m \u001b[0;34m'cubic'\u001b[0m \u001b[0;32mand\u001b[0m \u001b[0mndim\u001b[0m \u001b[0;34m==\u001b[0m \u001b[0;36m2\u001b[0m\u001b[0;34m:\u001b[0m\u001b[0;34m\u001b[0m\u001b[0m\n\u001b[1;32m    220\u001b[0m         ip = CloughTocher2DInterpolator(points, values, fill_value=fill_value,\n",
      "\u001b[0;32minterpnd.pyx\u001b[0m in \u001b[0;36mscipy.interpolate.interpnd.NDInterpolatorBase.__call__\u001b[0;34m()\u001b[0m\n",
      "\u001b[0;32m~/anaconda3/envs/rainymotion/lib/python3.5/site-packages/numpy/core/numeric.py\u001b[0m in \u001b[0;36masarray\u001b[0;34m(a, dtype, order)\u001b[0m\n\u001b[1;32m    422\u001b[0m \u001b[0;34m\u001b[0m\u001b[0m\n\u001b[1;32m    423\u001b[0m \u001b[0;34m\u001b[0m\u001b[0m\n\u001b[0;32m--> 424\u001b[0;31m \u001b[0;32mdef\u001b[0m \u001b[0masarray\u001b[0m\u001b[0;34m(\u001b[0m\u001b[0ma\u001b[0m\u001b[0;34m,\u001b[0m \u001b[0mdtype\u001b[0m\u001b[0;34m=\u001b[0m\u001b[0;32mNone\u001b[0m\u001b[0;34m,\u001b[0m \u001b[0morder\u001b[0m\u001b[0;34m=\u001b[0m\u001b[0;32mNone\u001b[0m\u001b[0;34m)\u001b[0m\u001b[0;34m:\u001b[0m\u001b[0;34m\u001b[0m\u001b[0m\n\u001b[0m\u001b[1;32m    425\u001b[0m     \"\"\"Convert the input to an array.\n\u001b[1;32m    426\u001b[0m \u001b[0;34m\u001b[0m\u001b[0m\n",
      "\u001b[0;31mKeyboardInterrupt\u001b[0m: "
     ]
    }
   ],
   "source": [
    "%%time\n",
    "optical_flow(data, eval_idx, results, \"DenseRotation\")"
   ]
  },
  {
   "cell_type": "code",
   "execution_count": 13,
   "metadata": {},
   "outputs": [],
   "source": [
    "def calculate_CSI(obs, sim, thresholds=[0.125, 0.250, 0.500, 1.000]):\n",
    "    \n",
    "    result = {}\n",
    "    \n",
    "    for threshold in thresholds:\n",
    "        result[str(threshold)] = [metrics.CSI(obs[i], sim[i], threshold=threshold) for i in range(obs.shape[0])]\n",
    "    \n",
    "    return result\n",
    "\n",
    "def calculate_MAE(obs, sim):\n",
    "    \n",
    "    return [metrics.MAE(obs[i], sim[i]) for i in range(obs.shape[0])]\n",
    "\n",
    "def calculate_metrics_dict(eval_instance, results_instance, \n",
    "                           model_names=[\"Persistence\", \"Sparse\", \"SparseSD\", \"Dense\", \"DenseRotation\"]):\n",
    "    \n",
    "    metrics_dict = OrderedDict()\n",
    "    \n",
    "    for model_name in model_names:\n",
    "        \n",
    "        metrics_dict[model_name] = OrderedDict()\n",
    "        \n",
    "        for key in sorted(list(eval_instance.keys())):\n",
    "            \n",
    "            metrics_dict[model_name][key] = {model_name: {\"CSI\": None, \"MAE\": None}}\n",
    "            \n",
    "            o = results_instance[\"GT\"][key][()]\n",
    "            \n",
    "            s = results_instance[model_name][key][()]\n",
    "            \n",
    "            metrics_dict[model_name][key][\"CSI\"] = calculate_CSI(o, s)\n",
    "            metrics_dict[model_name][key][\"MAE\"] = calculate_MAE(o, s)\n",
    "    \n",
    "    return metrics_dict"
   ]
  },
  {
   "cell_type": "code",
   "execution_count": null,
   "metadata": {
    "scrolled": false
   },
   "outputs": [],
   "source": [
    "%%time\n",
    "metrics_dict = calculate_metrics_dict(eval_idx, results, model_names=[\"Persistence\", \"Sparse\", \"SparseSD\"])"
   ]
  },
  {
   "cell_type": "code",
   "execution_count": null,
   "metadata": {},
   "outputs": [],
   "source": [
    "np.save(\"../data/results_metrics.npy\", metrics_dict)"
   ]
  },
  {
   "cell_type": "code",
   "execution_count": null,
   "metadata": {},
   "outputs": [],
   "source": [
    "def MAE_simple_plot(metrics_dict, ax, axis=0):\n",
    "    \n",
    "    ### data preparation block ###\n",
    "    \n",
    "    # create a useful keys\n",
    "    model_names = sorted(list(metrics_dict.keys()))\n",
    "      \n",
    "    main_keys = sorted(list(metrics_dict[model_names[0]].keys()))\n",
    "    \n",
    "    # create a holder for averaged MAE results\n",
    "    mae = {model_name: None for model_name in model_names}\n",
    "    \n",
    "    for model_name in model_names:\n",
    "        mae[model_name] = np.array( [metrics_dict[model_name][step][\"MAE\"] for step in main_keys] )\n",
    "       \n",
    "    ###   ###   ###\n",
    "    t = range(5, 65, 5)\n",
    "    \n",
    "    #fig, ax = plt.subplots(figsize=(12, 8))\n",
    "    \n",
    "    for model in model_names:\n",
    "        \n",
    "        data = mae[model]\n",
    "        \n",
    "        data_to_plot = np.mean(data, axis=axis)\n",
    "        \n",
    "        ax.plot(t, data_to_plot, label=model)\n",
    "    \n",
    "    ax.grid(linestyle=\"--\")\n",
    "    ax.legend()\n",
    "    \n",
    "    ax.set_title(\"Event starts: {}, ends: {}\".format(main_keys[0], main_keys[-1]))\n",
    "    ax.set_xlabel(\"Lead time, min\")\n",
    "    ax.set_ylabel(\"MAE, mm\")\n",
    "    \n",
    "    return ax"
   ]
  },
  {
   "cell_type": "code",
   "execution_count": null,
   "metadata": {},
   "outputs": [],
   "source": [
    "fig, ax = plt.subplots(figsize=(10,6))\n",
    "ax = MAE_simple_plot(metrics_dict, ax)"
   ]
  },
  {
   "cell_type": "code",
   "execution_count": null,
   "metadata": {},
   "outputs": [],
   "source": [
    "def CSI_simple_plot(metrics_dict, threshold, ax):\n",
    "    \n",
    "    \"\"\"\n",
    "    threshold should be a string from ['0.125', '0.25', '0.5', '1.0']\n",
    "    \"\"\"\n",
    "    \n",
    "    # create a useful keys\n",
    "    model_names = sorted(list(metrics_dict.keys()))\n",
    "    \n",
    "    main_keys = sorted(list(metrics_dict[model_names[0]].keys()))\n",
    "    \n",
    "    # create a holder for averaged MAE results\n",
    "    csi = {model_name: None for model_name in model_names}\n",
    "    \n",
    "    for model_name in model_names:\n",
    "        csi[model_name] = np.array( [metrics_dict[model_name][step][\"CSI\"][threshold] for step in main_keys] )\n",
    "    \n",
    "    ###\n",
    "    \n",
    "    t = range(5, 65, 5)\n",
    "         \n",
    "    for model in model_names: \n",
    "\n",
    "        data = csi[model]\n",
    "        data_to_plot = np.mean(data, axis=0)\n",
    "        ax.plot(t, data_to_plot, label=model)\n",
    "\n",
    "    ax.grid(linestyle=\"--\")\n",
    "    ax.legend()\n",
    "    \n",
    "    ax.set_title(\"Event starts: {}, ends: {}, CSI threshold: {}\".format(main_keys[0],\n",
    "                                                                        main_keys[-1],\n",
    "                                                                        threshold))\n",
    "    \n",
    "    ax.set_xlabel(\"Lead time, min\")\n",
    "    ax.set_ylabel(\"CSI\")\n",
    "\n",
    "    return ax"
   ]
  },
  {
   "cell_type": "code",
   "execution_count": null,
   "metadata": {},
   "outputs": [],
   "source": [
    "fig, axes = plt.subplots(2, 2, figsize=(20,20))\n",
    "axes = axes.ravel()\n",
    "for i, threshold in enumerate(['0.125', '0.25', '0.5', '1.0']):\n",
    "    axes[i] = CSI_simple_plot(metrics_dict, threshold, axes[i])"
   ]
  },
  {
   "cell_type": "code",
   "execution_count": null,
   "metadata": {},
   "outputs": [],
   "source": []
  }
 ],
 "metadata": {
  "kernelspec": {
   "display_name": "Python 3",
   "language": "python",
   "name": "python3"
  },
  "language_info": {
   "codemirror_mode": {
    "name": "ipython",
    "version": 3
   },
   "file_extension": ".py",
   "mimetype": "text/x-python",
   "name": "python",
   "nbconvert_exporter": "python",
   "pygments_lexer": "ipython3",
   "version": "3.5.5"
  }
 },
 "nbformat": 4,
 "nbformat_minor": 2
}
